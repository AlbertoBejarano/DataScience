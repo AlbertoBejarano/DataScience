{
 "cells": [
  {
   "cell_type": "code",
   "execution_count": null,
   "id": "56625de0-daec-4ca9-9306-9b0ef2c21ca5",
   "metadata": {
    "tags": []
   },
   "outputs": [],
   "source": [
    "#!pip install pandas_profiling\n",
    "#!pip install ProfileReport\n",
    "# Importing the libraries\n",
    "import pandas as pd\n",
    "import missingno as msno\n",
    "# from pandas_profiling import ProfileReport\n",
    "from pandas_profiling import ProfileReport"
   ]
  },
  {
   "cell_type": "code",
   "execution_count": null,
   "id": "56e6de03-7b21-489f-9e3d-cb3f3c694953",
   "metadata": {
    "tags": []
   },
   "outputs": [],
   "source": [
    "# Loading the dataset\n",
    "df = pd.read_csv(\"./data/kamyr-digester.csv\")\n",
    "print(\"DataSet Loaded Successfully!!\")"
   ]
  },
  {
   "cell_type": "code",
   "execution_count": null,
   "id": "a27c8441-9d25-426f-ac77-7bac7cd3ed73",
   "metadata": {
    "slideshow": {
     "slide_type": "slide"
    },
    "tags": []
   },
   "outputs": [],
   "source": [
    "df.isnull().sum()"
   ]
  },
  {
   "cell_type": "code",
   "execution_count": null,
   "id": "05df7f32-97b0-4208-848f-1cb55e31bcb8",
   "metadata": {
    "slideshow": {
     "slide_type": "slide"
    },
    "tags": []
   },
   "outputs": [],
   "source": [
    "# Visualize missing values as a matrix\n",
    "msno.matrix(df, figsize=(15,10), sparkline=False, p=0)"
   ]
  },
  {
   "cell_type": "code",
   "execution_count": null,
   "id": "680a5442-38d7-45d5-a716-fe1304bbaaa0",
   "metadata": {
    "slideshow": {
     "slide_type": "slide"
    },
    "tags": []
   },
   "outputs": [],
   "source": [
    "msno.matrix(df)"
   ]
  },
  {
   "cell_type": "code",
   "execution_count": null,
   "id": "94643033-f9f4-483f-b97f-a667e5406bd5",
   "metadata": {},
   "outputs": [],
   "source": [
    "profile = ProfileReport(df, title=\"Pandas Profiling Report\", explorative=True)\n",
    "print(profile)"
   ]
  },
  {
   "cell_type": "code",
   "execution_count": null,
   "id": "cda15f76-a5dd-444d-aaa0-7b339cc10cf5",
   "metadata": {},
   "outputs": [],
   "source": [
    "# making new data frame with dropped NA values \n",
    "new_df = df.dropna(axis = 0, how ='any') "
   ]
  },
  {
   "cell_type": "code",
   "execution_count": null,
   "id": "76afea34-ed8c-47e0-9bdd-76f13fa370a7",
   "metadata": {},
   "outputs": [],
   "source": [
    "print(msno.matrix(new_df))"
   ]
  },
  {
   "cell_type": "code",
   "execution_count": null,
   "id": "7a84c685-477b-4ec0-b4cb-b0f542f8fd95",
   "metadata": {},
   "outputs": [],
   "source": [
    "profile = ProfileReport(new_df, title=\"Pandas Profiling Report\", explorative=True, minimal=True)\n",
    "profile"
   ]
  },
  {
   "cell_type": "code",
   "execution_count": null,
   "id": "a111f2a5-f3cc-443a-a5e7-0265664aa424",
   "metadata": {},
   "outputs": [],
   "source": [
    "#profile.to_widgets()"
   ]
  },
  {
   "cell_type": "code",
   "execution_count": null,
   "id": "77360544-1142-4c85-a5ee-c7a155715b7e",
   "metadata": {},
   "outputs": [],
   "source": []
  },
  {
   "cell_type": "code",
   "execution_count": null,
   "id": "37b09e59-1ac0-4f92-a751-481a5ad8ad18",
   "metadata": {
    "tags": []
   },
   "outputs": [],
   "source": []
  },
  {
   "cell_type": "code",
   "execution_count": null,
   "id": "c20e9e76-79aa-4a47-ba29-ec460d8da4ae",
   "metadata": {},
   "outputs": [],
   "source": []
  }
 ],
 "metadata": {
  "kernelspec": {
   "display_name": "Python 3",
   "language": "python",
   "name": "python3"
  },
  "language_info": {
   "codemirror_mode": {
    "name": "ipython",
    "version": 3
   },
   "file_extension": ".py",
   "mimetype": "text/x-python",
   "name": "python",
   "nbconvert_exporter": "python",
   "pygments_lexer": "ipython3",
   "version": "3.8.8"
  }
 },
 "nbformat": 4,
 "nbformat_minor": 5
}
